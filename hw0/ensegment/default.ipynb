{
 "cells": [
  {
   "cell_type": "markdown",
   "metadata": {},
   "source": [
    "# ensegment: default program"
   ]
  },
  {
   "cell_type": "code",
   "execution_count": 551,
   "metadata": {},
   "outputs": [
    {
     "name": "stdout",
     "output_type": "stream",
     "text": [
      "The autoreload extension is already loaded. To reload it, use:\n",
      "  %reload_ext autoreload\n"
     ]
    }
   ],
   "source": [
    "from default import *\n",
    "%load_ext autoreload\n",
    "%autoreload 2"
   ]
  },
  {
   "cell_type": "markdown",
   "metadata": {},
   "source": [
    "## Documentation\n",
    "\n",
    "Write some beautiful documentation of your program here."
   ]
  },
  {
   "cell_type": "code",
   "execution_count": 527,
   "metadata": {
    "scrolled": false
   },
   "outputs": [
    {
     "name": "stdout",
     "output_type": "stream",
     "text": [
      "howtobreakupin5words\n",
      "whatmakesgodsmile\n",
      "10peoplewhomeanalot to me\n",
      "worstdayin4words\n",
      "lovestoryin5words\n",
      "top3favouritecomics\n",
      "10breakuplines\n",
      "things thatmakeyousmile\n",
      "bestfemaleathlete\n",
      "worstbossin5words\n",
      "no wisthetimeforallgood\n",
      "i tisatruthuniversally acknowledged\n",
      "when in the course of humaneventsitbecomes necessary\n",
      "itwasabrightcoldda yinaprilandtheclocks werestrikingthirteen\n",
      "it wasthebestoftimesitw astheworstoftimesitw astheageofwisdomitwa stheageoffoolishness\n",
      "asgregorsamsaawo keonemorningfromunea sydreamshefoundhimse lftransformedinhisbe dintoagiganticinsect\n",
      "inaholeinthegroundth erelivedahobbitnotan astydirtywetholefill edwiththeendsofworms and anoozysmellnoryetadr ybaresandyholewithno thinginittositdownon or toeatitwasahobbithol eandthatmeanscomfort\n",
      "faroutintheuncharted backwaters of the unfashionable endofthewesternspira larmofthegalaxyliesa small unregardedyellowsun\n"
     ]
    }
   ],
   "source": [
    "Pw = Pdist(data=datafile(\"data/count_1w.txt\"),)\n",
    "segmenter = Segment(Pw)\n",
    "with open(\"data/input/test.txt\") as f:\n",
    "    for line in f:\n",
    "        print(\" \".join(segmenter.segment(line.strip())))"
   ]
  },
  {
   "cell_type": "markdown",
   "metadata": {},
   "source": [
    "## Analysis\n",
    "\n",
    "Do some analysis of the results. What ideas did you try? What worked and what did not?"
   ]
  },
  {
   "cell_type": "code",
   "execution_count": 532,
   "metadata": {},
   "outputs": [
    {
     "name": "stdout",
     "output_type": "stream",
     "text": [
      "whatmakesgodsmile\n"
     ]
    }
   ],
   "source": [
    "line = 'whatmakesgodsmile'\n",
    "print(\" \".join(segmenter.segment(line.strip())))"
   ]
  },
  {
   "cell_type": "markdown",
   "metadata": {},
   "source": [
    "### Below I'm running code to compute the score for each segmentation candidate as well as the words in each segmentation."
   ]
  },
  {
   "cell_type": "code",
   "execution_count": 533,
   "metadata": {},
   "outputs": [
    {
     "name": "stdout",
     "output_type": "stream",
     "text": [
      "---------------------\n",
      "The word is: ['w', 'hatmakesgodsmile']\n",
      "The full score is: 7.292245924015249e-16\n",
      "w 0.0004288746447473298\n",
      "hatmakesgodsmile 1.7003210642847526e-12\n",
      "---------------------\n",
      "The word is: ['wh', 'atmakesgodsmile']\n",
      "The full score is: 1.3396902720920192e-17\n",
      "wh 7.879042965662287e-06\n",
      "atmakesgodsmile 1.7003210642847526e-12\n",
      "---------------------\n",
      "The word is: ['wha', 'tmakesgodsmile']\n",
      "The full score is: 1.9474914233547218e-18\n",
      "wha 1.1453668746813664e-06\n",
      "tmakesgodsmile 1.7003210642847526e-12\n",
      "---------------------\n",
      "The word is: ['what', 'makesgodsmile']\n",
      "The full score is: 2.348710141825586e-15\n",
      "what 0.001381333320606471\n",
      "makesgodsmile 1.7003210642847526e-12\n",
      "---------------------\n",
      "The word is: ['whatm', 'akesgodsmile']\n",
      "The full score is: 2.891091721650434e-24\n",
      "whatm 1.7003210642847526e-12\n",
      "akesgodsmile 1.7003210642847526e-12\n",
      "---------------------\n",
      "The word is: ['whatma', 'kesgodsmile']\n",
      "The full score is: 2.891091721650434e-24\n",
      "whatma 1.7003210642847526e-12\n",
      "kesgodsmile 1.7003210642847526e-12\n",
      "---------------------\n",
      "The word is: ['whatmak', 'esgodsmile']\n",
      "The full score is: 2.891091721650434e-24\n",
      "whatmak 1.7003210642847526e-12\n",
      "esgodsmile 1.7003210642847526e-12\n",
      "---------------------\n",
      "The word is: ['whatmake', 's', 'god', 'smile']\n",
      "The full score is: 7.456786999332632e-24\n",
      "whatmake 1.7003210642847526e-12\n",
      "s 0.0009608922088267563\n",
      "god 0.00019319788762291068\n",
      "smile 2.3623473618519587e-05\n",
      "---------------------\n",
      "The word is: ['whatmakes', 'god', 'smile']\n",
      "The full score is: 7.760274181468621e-21\n",
      "whatmakes 1.7003210642847526e-12\n",
      "god 0.00019319788762291068\n",
      "smile 2.3623473618519587e-05\n",
      "---------------------\n",
      "The word is: ['whatmakesg', 'od', 'smile']\n",
      "The full score is: 3.0303166251084004e-22\n",
      "whatmakesg 1.7003210642847526e-12\n",
      "od 7.544202139114819e-06\n",
      "smile 2.3623473618519587e-05\n",
      "---------------------\n",
      "The word is: ['whatmakesgo', 'd', 'smile']\n",
      "The full score is: 2.468916657516896e-20\n",
      "whatmakesgo 1.7003210642847526e-12\n",
      "d 0.0006146554513348548\n",
      "smile 2.3623473618519587e-05\n",
      "---------------------\n",
      "The word is: ['whatmakesgod', 'smile']\n",
      "The full score is: 4.0167489805144e-17\n",
      "whatmakesgod 1.7003210642847526e-12\n",
      "smile 2.3623473618519587e-05\n",
      "---------------------\n",
      "The word is: ['whatmakesgods', 'mile']\n",
      "The full score is: 6.412079473937112e-17\n",
      "whatmakesgods 1.7003210642847526e-12\n",
      "mile 3.771099240386333e-05\n",
      "---------------------\n",
      "The word is: ['whatmakesgodsm', 'ile']\n",
      "The full score is: 1.3096298568069868e-17\n",
      "whatmakesgodsm 1.7003210642847526e-12\n",
      "ile 7.702250382682215e-06\n",
      "---------------------\n",
      "The word is: ['whatmakesgodsmi', 'le']\n",
      "The full score is: 1.4592716078829246e-16\n",
      "whatmakesgodsmi 1.7003210642847526e-12\n",
      "le 8.582329764271746e-05\n",
      "---------------------\n",
      "The word is: ['whatmakesgodsmil', 'e']\n",
      "The full score is: 1.7146665163123618e-15\n",
      "whatmakesgodsmil 1.7003210642847526e-12\n",
      "e 0.0010084369077869677\n",
      "---------------------\n",
      "The word is: ['whatmakesgodsmile']\n",
      "The full score is: 1.7003210642847526e-12\n",
      "whatmakesgodsmile 1.7003210642847526e-12\n"
     ]
    }
   ],
   "source": [
    "candidates = ([first]+segmenter.segment(rem) for first,rem in segmenter.splits(line))\n",
    "for words in candidates:\n",
    "    print('---------------------')\n",
    "    print('The word is: {}'.format(words))\n",
    "    print('The full score is: {}'.format(segmenter.Pwords(words)))\n",
    "    for word in words:\n",
    "        print(word, segmenter.Pwords([word]))\n"
   ]
  },
  {
   "cell_type": "markdown",
   "metadata": {},
   "source": [
    "### Observation 1\n",
    "As we can see above the last segmentation ['whatmakesgodsmile'] has the largest score!! By looking carefully at default.py I observe that the probability of an unseen word is the same as a word that is seen once i.e 1.0/N. We can see why this is problematic below as the product of a perfect segmentation such as 'what makes god smile' is smaller than 1.0/N and as a result 'whatmakesgodsmile' is chosen by the algorithm."
   ]
  },
  {
   "cell_type": "code",
   "execution_count": 542,
   "metadata": {},
   "outputs": [
    {
     "data": {
      "text/plain": [
       "9.414915981927788e-16"
      ]
     },
     "execution_count": 542,
     "metadata": {},
     "output_type": "execute_result"
    }
   ],
   "source": [
    "segmenter.Pwords(['what']) * segmenter.Pwords(['makes']) * segmenter.Pwords(['god']) * segmenter.Pwords(['smile'])"
   ]
  },
  {
   "cell_type": "markdown",
   "metadata": {},
   "source": [
    "### Fix number 1\n",
    "An easy fix is to change the probability of an unseen word to 0. I am going to feed this lambda function to the Pdist and run the results again."
   ]
  },
  {
   "cell_type": "code",
   "execution_count": 543,
   "metadata": {},
   "outputs": [
    {
     "name": "stdout",
     "output_type": "stream",
     "text": [
      "h o w t o b r e a k u p i n 5 words\n",
      "what makes god smile\n",
      "1 0 people who mean alot to me\n",
      "w o r s t d a y i n 4 words\n",
      "l o v e s t o r y i n 5 words\n",
      "t o p 3 favourite comics\n",
      "1 0 breakup lines\n",
      "things that make you smile\n",
      "best female athlete\n",
      "w o r s t b o s s i n 5 words\n",
      "now is the time for all good\n",
      "it is a truth universally acknowledged\n",
      "when in the course of human events it becomes necessary\n",
      "it was a bright cold day in april and the clocks were striking thirteen\n",
      "it was the best of times it was the worst of times it was the age of wisdom it was the age of foolishness\n",
      "as gregor samsa awoke one morning from uneasy dreams he found himself transformed in his bed into a gigantic insect\n",
      "in a hole in the ground there lived a hobbit not a nasty dirty wet hole filled with the ends of worms and an oozy smell nor yet a dry bare sandy hole with nothing in it to sitdown on or to eat it was a hobbit hole and that means comfort\n",
      "far out in the uncharted backwaters of the unfashionable end of the western spiral arm of the galaxy lies a small un regarded yellow sun\n"
     ]
    }
   ],
   "source": [
    "Pw = Pdist(data=datafile(\"data/count_1w.txt\"), missingfn=(lambda k, N: 0./N))\n",
    "segmenter = Segment(Pw)\n",
    "with open(\"data/input/test.txt\") as f:\n",
    "    for line in f:\n",
    "        print(\" \".join(segmenter.segment(line.strip())))"
   ]
  },
  {
   "cell_type": "markdown",
   "metadata": {},
   "source": [
    "### Fix 1 analysis \n",
    "As we can see above this fixed the problem that we had with many of the words. However, this is still far from perfect. Let's see pick an example and find the score again on segmentation candiates as well as the score for words in each segmentation. "
   ]
  },
  {
   "cell_type": "code",
   "execution_count": 544,
   "metadata": {},
   "outputs": [
    {
     "name": "stdout",
     "output_type": "stream",
     "text": [
      "h o w t o b r e a k u p i n 5 words\n"
     ]
    }
   ],
   "source": [
    "line = 'howtobreakupin5words'\n",
    "print(\" \".join(segmenter.segment(line.strip())))"
   ]
  },
  {
   "cell_type": "code",
   "execution_count": 545,
   "metadata": {
    "scrolled": false
   },
   "outputs": [
    {
     "name": "stdout",
     "output_type": "stream",
     "text": [
      "---------------------\n",
      "The word is: ['h', 'o', 'w', 't', 'o', 'b', 'r', 'e', 'a', 'k', 'u', 'p', 'i', 'n', '5', 'words']\n",
      "The full score is: 0.0\n",
      "h 0.00037496075562044076\n",
      "o 0.00041900980021133147\n",
      "w 0.0004288746447473298\n",
      "t 0.0006604863473850627\n",
      "o 0.00041900980021133147\n",
      "b 0.0007137364515723077\n",
      "r 0.0005501121019928903\n",
      "e 0.0010084369077869677\n",
      "a 0.015440912627459126\n",
      "k 0.00033266433567009327\n",
      "u 0.00030540416604997055\n",
      "p 0.0005156221893116026\n",
      "i 0.0052475738476111455\n",
      "n 0.0007446749512556136\n",
      "5 0.0\n",
      "words 0.00015457643110003904\n",
      "---------------------\n",
      "The word is: ['ho', 'w', 't', 'o', 'b', 'r', 'e', 'a', 'k', 'u', 'p', 'i', 'n', '5', 'words']\n",
      "The full score is: 0.0\n",
      "ho 2.1281090916508143e-05\n",
      "w 0.0004288746447473298\n",
      "t 0.0006604863473850627\n",
      "o 0.00041900980021133147\n",
      "b 0.0007137364515723077\n",
      "r 0.0005501121019928903\n",
      "e 0.0010084369077869677\n",
      "a 0.015440912627459126\n",
      "k 0.00033266433567009327\n",
      "u 0.00030540416604997055\n",
      "p 0.0005156221893116026\n",
      "i 0.0052475738476111455\n",
      "n 0.0007446749512556136\n",
      "5 0.0\n",
      "words 0.00015457643110003904\n",
      "---------------------\n",
      "The word is: ['how', 't', 'o', 'b', 'r', 'e', 'a', 'k', 'u', 'p', 'i', 'n', '5', 'words']\n",
      "The full score is: 0.0\n",
      "how 0.0009723253359947923\n",
      "t 0.0006604863473850627\n",
      "o 0.00041900980021133147\n",
      "b 0.0007137364515723077\n",
      "r 0.0005501121019928903\n",
      "e 0.0010084369077869677\n",
      "a 0.015440912627459126\n",
      "k 0.00033266433567009327\n",
      "u 0.00030540416604997055\n",
      "p 0.0005156221893116026\n",
      "i 0.0052475738476111455\n",
      "n 0.0007446749512556136\n",
      "5 0.0\n",
      "words 0.00015457643110003904\n",
      "---------------------\n",
      "The word is: ['howt', 'o', 'b', 'r', 'e', 'a', 'k', 'u', 'p', 'i', 'n', '5', 'words']\n",
      "The full score is: 0.0\n",
      "howt 0.0\n",
      "o 0.00041900980021133147\n",
      "b 0.0007137364515723077\n",
      "r 0.0005501121019928903\n",
      "e 0.0010084369077869677\n",
      "a 0.015440912627459126\n",
      "k 0.00033266433567009327\n",
      "u 0.00030540416604997055\n",
      "p 0.0005156221893116026\n",
      "i 0.0052475738476111455\n",
      "n 0.0007446749512556136\n",
      "5 0.0\n",
      "words 0.00015457643110003904\n",
      "---------------------\n",
      "The word is: ['howto', 'b', 'r', 'e', 'a', 'k', 'u', 'p', 'i', 'n', '5', 'words']\n",
      "The full score is: 0.0\n",
      "howto 1.1744799419761563e-05\n",
      "b 0.0007137364515723077\n",
      "r 0.0005501121019928903\n",
      "e 0.0010084369077869677\n",
      "a 0.015440912627459126\n",
      "k 0.00033266433567009327\n",
      "u 0.00030540416604997055\n",
      "p 0.0005156221893116026\n",
      "i 0.0052475738476111455\n",
      "n 0.0007446749512556136\n",
      "5 0.0\n",
      "words 0.00015457643110003904\n",
      "---------------------\n",
      "The word is: ['howtob', 'r', 'e', 'a', 'k', 'u', 'p', 'i', 'n', '5', 'words']\n",
      "The full score is: 0.0\n",
      "howtob 0.0\n",
      "r 0.0005501121019928903\n",
      "e 0.0010084369077869677\n",
      "a 0.015440912627459126\n",
      "k 0.00033266433567009327\n",
      "u 0.00030540416604997055\n",
      "p 0.0005156221893116026\n",
      "i 0.0052475738476111455\n",
      "n 0.0007446749512556136\n",
      "5 0.0\n",
      "words 0.00015457643110003904\n",
      "---------------------\n",
      "The word is: ['howtobr', 'e', 'a', 'k', 'u', 'p', 'i', 'n', '5', 'words']\n",
      "The full score is: 0.0\n",
      "howtobr 0.0\n",
      "e 0.0010084369077869677\n",
      "a 0.015440912627459126\n",
      "k 0.00033266433567009327\n",
      "u 0.00030540416604997055\n",
      "p 0.0005156221893116026\n",
      "i 0.0052475738476111455\n",
      "n 0.0007446749512556136\n",
      "5 0.0\n",
      "words 0.00015457643110003904\n",
      "---------------------\n",
      "The word is: ['howtobre', 'a', 'k', 'u', 'p', 'i', 'n', '5', 'words']\n",
      "The full score is: 0.0\n",
      "howtobre 0.0\n",
      "a 0.015440912627459126\n",
      "k 0.00033266433567009327\n",
      "u 0.00030540416604997055\n",
      "p 0.0005156221893116026\n",
      "i 0.0052475738476111455\n",
      "n 0.0007446749512556136\n",
      "5 0.0\n",
      "words 0.00015457643110003904\n",
      "---------------------\n",
      "The word is: ['howtobrea', 'k', 'u', 'p', 'i', 'n', '5', 'words']\n",
      "The full score is: 0.0\n",
      "howtobrea 0.0\n",
      "k 0.00033266433567009327\n",
      "u 0.00030540416604997055\n",
      "p 0.0005156221893116026\n",
      "i 0.0052475738476111455\n",
      "n 0.0007446749512556136\n",
      "5 0.0\n",
      "words 0.00015457643110003904\n",
      "---------------------\n",
      "The word is: ['howtobreak', 'u', 'p', 'i', 'n', '5', 'words']\n",
      "The full score is: 0.0\n",
      "howtobreak 0.0\n",
      "u 0.00030540416604997055\n",
      "p 0.0005156221893116026\n",
      "i 0.0052475738476111455\n",
      "n 0.0007446749512556136\n",
      "5 0.0\n",
      "words 0.00015457643110003904\n",
      "---------------------\n",
      "The word is: ['howtobreaku', 'p', 'i', 'n', '5', 'words']\n",
      "The full score is: 0.0\n",
      "howtobreaku 0.0\n",
      "p 0.0005156221893116026\n",
      "i 0.0052475738476111455\n",
      "n 0.0007446749512556136\n",
      "5 0.0\n",
      "words 0.00015457643110003904\n",
      "---------------------\n",
      "The word is: ['howtobreakup', 'i', 'n', '5', 'words']\n",
      "The full score is: 0.0\n",
      "howtobreakup 0.0\n",
      "i 0.0052475738476111455\n",
      "n 0.0007446749512556136\n",
      "5 0.0\n",
      "words 0.00015457643110003904\n",
      "---------------------\n",
      "The word is: ['howtobreakupi', 'n', '5', 'words']\n",
      "The full score is: 0.0\n",
      "howtobreakupi 0.0\n",
      "n 0.0007446749512556136\n",
      "5 0.0\n",
      "words 0.00015457643110003904\n",
      "---------------------\n",
      "The word is: ['howtobreakupin', '5', 'words']\n",
      "The full score is: 0.0\n",
      "howtobreakupin 0.0\n",
      "5 0.0\n",
      "words 0.00015457643110003904\n",
      "---------------------\n",
      "The word is: ['howtobreakupin5', 'words']\n",
      "The full score is: 0.0\n",
      "howtobreakupin5 0.0\n",
      "words 0.00015457643110003904\n",
      "---------------------\n",
      "The word is: ['howtobreakupin5w', 'ords']\n",
      "The full score is: 0.0\n",
      "howtobreakupin5w 0.0\n",
      "ords 1.9377879041227612e-07\n",
      "---------------------\n",
      "The word is: ['howtobreakupin5wo', 'rds']\n",
      "The full score is: 0.0\n",
      "howtobreakupin5wo 0.0\n",
      "rds 2.172308087556364e-06\n",
      "---------------------\n",
      "The word is: ['howtobreakupin5wor', 'ds']\n",
      "The full score is: 0.0\n",
      "howtobreakupin5wor 0.0\n",
      "ds 3.661177564350878e-05\n",
      "---------------------\n",
      "The word is: ['howtobreakupin5word', 's']\n",
      "The full score is: 0.0\n",
      "howtobreakupin5word 0.0\n",
      "s 0.0009608922088267563\n",
      "---------------------\n",
      "The word is: ['howtobreakupin5words']\n",
      "The full score is: 0.0\n",
      "howtobreakupin5words 0.0\n"
     ]
    }
   ],
   "source": [
    "candidates = ([first]+segmenter.segment(rem) for first,rem in segmenter.splits(line))\n",
    "for words in candidates:\n",
    "    print('---------------------')\n",
    "    print('The word is: {}'.format(words))\n",
    "    print('The full score is: {}'.format(segmenter.Pwords(words)))\n",
    "    for word in words:\n",
    "        print(word, segmenter.Pwords([word]))\n",
    "\n"
   ]
  },
  {
   "cell_type": "markdown",
   "metadata": {},
   "source": [
    "### Problem with fix 1\n",
    "As we can see all the scores are 0!!! This is happening for the following reason: The full segmentation score is the product scores for each word. In this case if we assign a porbability of 0 to an unseen word the full score will be 0. In this case ['howtobreakupin5words'] has a score 0 and ['how', 't', 'o', 'b', 'r', 'e', 'a', 'k', 'u', 'p', 'i', 'n', '5', 'words'] also has score 0 because the letter '5' is an unseen character. These are clearly not equally bad."
   ]
  },
  {
   "cell_type": "markdown",
   "metadata": {},
   "source": [
    "### Fix 2\n",
    "In order to penalize an unseen word such 'howtobreakupin5words' more compared to '5', we are going to make the probability of unseen words dependant on its length. One candidate is 10/(N* 10^(word_length)). Let's feed this function as the missingfn parameter to Pdist."
   ]
  },
  {
   "cell_type": "code",
   "execution_count": 575,
   "metadata": {},
   "outputs": [
    {
     "name": "stdout",
     "output_type": "stream",
     "text": [
      "how to breakup in 5 words\n",
      "what makes god smile\n",
      "10 people who mean alot to me\n",
      "worst day in 4 words\n",
      "love story in 5 words\n",
      "to p3 favourite comics\n",
      "10 breakup lines\n",
      "things that make you smile\n",
      "best female athlete\n",
      "worst bossin5 words\n",
      "now is the time for all good\n",
      "it is a truth universally acknowledged\n",
      "when in the course of human events it becomes necessary\n",
      "it was a bright cold day in april and the clocks were striking thirteen\n",
      "it was the best of times it was the worst of times it was the age of wisdom it was the age of foolishness\n",
      "as gregor samsa awoke one morning from uneasy dreams he found himself transformed in his bed into a gigantic insect\n",
      "in a hole in the ground there lived a hobbit not a nasty dirty wet hole filled with the ends of worms and an oozy smell nor yet a dry bare sandy hole with nothing in it to sitdown on or to eat it was a hobbit hole and that means comfort\n",
      "far out in the uncharted backwaters of the unfashionable end of the western spiral arm of the galaxy lies a small un regarded yellow sun\n"
     ]
    }
   ],
   "source": [
    "Pw = Pdist(data=datafile(\"data/count_1w.txt\"), missingfn=(lambda k, N: 10.0/(N * 10**len(k))))\n",
    "segmenter = Segment(Pw)\n",
    "with open(\"data/input/test.txt\") as f:\n",
    "    for line in f:\n",
    "        print(\" \".join(segmenter.segment(line.strip())))"
   ]
  },
  {
   "cell_type": "markdown",
   "metadata": {},
   "source": [
    "### Fix 3 \n",
    "To make the model even more robust we compute the final score as log(p1 x p2 x p3 ... x pn) which will be the sum of the log of probabilities. This will help avoid underflow. "
   ]
  },
  {
   "cell_type": "code",
   "execution_count": null,
   "metadata": {},
   "outputs": [],
   "source": []
  },
  {
   "cell_type": "code",
   "execution_count": null,
   "metadata": {},
   "outputs": [],
   "source": []
  }
 ],
 "metadata": {
  "kernelspec": {
   "display_name": "Python 3",
   "language": "python",
   "name": "python3"
  },
  "language_info": {
   "codemirror_mode": {
    "name": "ipython",
    "version": 3
   },
   "file_extension": ".py",
   "mimetype": "text/x-python",
   "name": "python",
   "nbconvert_exporter": "python",
   "pygments_lexer": "ipython3",
   "version": "3.7.0"
  }
 },
 "nbformat": 4,
 "nbformat_minor": 2
}
